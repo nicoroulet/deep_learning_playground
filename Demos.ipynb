{
 "cells": [
  {
   "cell_type": "code",
   "execution_count": 7,
   "metadata": {},
   "outputs": [],
   "source": [
    "import importlib\n",
    "import matplotlib.pyplot as plt\n",
    "import pandas as pd\n",
    "from joblib import Parallel, delayed\n",
    "import numpy as np\n",
    "\n",
    "import Dataset\n",
    "import LinearClassifier\n",
    "\n",
    "import keras\n",
    "from keras.models import Sequential, Model\n",
    "from keras.layers import *\n",
    "from keras.utils.vis_utils import model_to_dot\n",
    "from keras.callbacks import TensorBoard\n",
    "\n",
    "from IPython.display import SVG, clear_output\n",
    "\n",
    "from matplotlib import pyplot as plt\n",
    "\n",
    "mean = [125.307, 122.95, 113.865]\n",
    "std  = [62.9932, 62.0887, 66.7048]\n",
    "num_classes = 10\n",
    "\n",
    "(x_train, y_train), (x_test, y_test) = keras.datasets.cifar10.load_data()\n",
    "y_train = keras.utils.to_categorical(y_train, num_classes)\n",
    "y_test  = keras.utils.to_categorical(y_test, num_classes)\n",
    "x_train = x_train.astype('float32')\n",
    "x_test  = x_test.astype('float32')\n",
    "img_dims = (32, 32, 3)\n",
    "\n",
    "for i in range(3):\n",
    "    x_train[:,:,:,i] = (x_train[:,:,:,i] - mean[i]) / std[i]\n",
    "    x_test[:,:,:,i] = (x_test[:,:,:,i] - mean[i]) / std[i]\n",
    "\n",
    "x_test1d = x_test.reshape([x_test.shape[0], 3072, 1, 1])\n",
    "x_train1d = x_train.reshape([x_train.shape[0], 3072, 1, 1])"
   ]
  },
  {
   "cell_type": "code",
   "execution_count": 2,
   "metadata": {},
   "outputs": [],
   "source": [
    "# import keras\n",
    "\n",
    "# (x_train, y_train), (x_test, y_test) = keras.datasets.cifar10.load_data()\n",
    "\n",
    "\n",
    "# importlib.reload(Dataset)  # reload module in case it was modified\n",
    "# # Load dataset\n",
    "# dataset = Dataset.load_cifar()\n",
    "\n",
    "# x_train = dataset['train']['data']\n",
    "# x_train2d = x_train.reshape([x_train.shape[0], 32, 32, 3])\n",
    "# y_labels = dataset['train']['labels']\n",
    "# y_train = np.zeros((50000, 10))\n",
    "# y_train[range(y_train.shape[0]),y_labels] = 1\n",
    "\n",
    "# x_test = dataset['test']['data']\n",
    "# x_test2d = x_test.reshape([x_test.shape[0], 32, 32, 3])\n",
    "# y_labels = dataset['test']['labels']\n",
    "# y_test = np.zeros((10000, 10))\n",
    "# y_test[range(y_test.shape[0]),y_labels] = 1\n",
    "\n",
    "img_dims = (32, 32, 3)"
   ]
  },
  {
   "cell_type": "markdown",
   "metadata": {},
   "source": [
    "# Linear Classifier\n",
    "## Learning Rate\n",
    "Experimenting with multiple learning rates and showing accuracy on test batch"
   ]
  },
  {
   "cell_type": "code",
   "execution_count": null,
   "metadata": {},
   "outputs": [],
   "source": [
    "importlib.reload(LinearClassifier)  # reload module in case it was modified\n",
    "\n",
    "lr_stats = pd.DataFrame()\n",
    "learning_rates = [.1, .03, .01, .003, .001, .0007, .0005, .0003, .0002, .0001]\n",
    "\n",
    "for learning_rate in learning_rates:\n",
    "    print('Computing learning_rate %f' % learning_rate)\n",
    "    model = LinearClassifier.LinearClassifier(10, 3072, \n",
    "                          loss_calculator=LinearClassifier.SoftmaxCalculator(),\n",
    "                          learning_rate=learning_rate)\n",
    "    stats = {}\n",
    "    stats['learning_rate'] = learning_rate\n",
    "    stats['initial_accuracy'] = model.measure_accuracy(dataset)\n",
    "    model.train(dataset)\n",
    "    stats['final_accuracy'] = model.measure_accuracy(dataset)\n",
    "    lr_stats = lr_stats.append(stats, ignore_index=True)\n",
    "print(lr_stats)"
   ]
  },
  {
   "cell_type": "code",
   "execution_count": null,
   "metadata": {},
   "outputs": [],
   "source": [
    "ax = lr_stats.plot(x='learning_rate', y='final_accuracy',\n",
    "              title='Accuracy', logx=True)\n",
    "lr_stats.plot(x='learning_rate', y='initial_accuracy',\n",
    "              title='Accuracy', logx=True, ax=ax)\n",
    "\n",
    "plt.xlim(max(learning_rates), min(learning_rates))\n",
    "plt.show()"
   ]
  },
  {
   "cell_type": "markdown",
   "metadata": {},
   "source": [
    "## Training Rounds\n",
    "Experiment doing multiple rounds on the same training data.\n",
    "\n",
    "Very evident for badly initialized W ($U(0,1)$, for example), less so for properly initialized values ($N(0, sqrt(2/n)$, for example) because accuracy starts high already."
   ]
  },
  {
   "cell_type": "code",
   "execution_count": null,
   "metadata": {},
   "outputs": [],
   "source": [
    "importlib.reload(LinearClassifier)  # reload module in case it was modified\n",
    "\n",
    "tr_stats = pd.DataFrame()\n",
    "learning_rate = 0.0003\n",
    "model = LinearClassifier.LinearClassifier(10, 3072, \n",
    "                      loss_calculator=LinearClassifier.Softmax(),\n",
    "                      learning_rate=learning_rate)\n",
    "for i in range(10):\n",
    "    print('Round', i)\n",
    "    model.train(dataset)\n",
    "    tr_stats = tr_stats.append({'round' : i,\n",
    "                                'accuracy' : model.measure_accuracy(dataset)},\n",
    "                                ignore_index=True)\n",
    "print(tr_stats)"
   ]
  },
  {
   "cell_type": "code",
   "execution_count": null,
   "metadata": {},
   "outputs": [],
   "source": [
    "tr_stats.plot(x='round', y='accuracy', title='Accuracy')\n",
    "plt.show()"
   ]
  },
  {
   "cell_type": "markdown",
   "metadata": {},
   "source": [
    "## Neural Network"
   ]
  },
  {
   "cell_type": "code",
   "execution_count": null,
   "metadata": {},
   "outputs": [],
   "source": [
    "importlib.reload(LinearClassifier)  # reload module in case it was modified\n",
    "\n",
    "model = LinearClassifier.NeuralNetwork(10, 3072, [200, 100])\n",
    "model.train(dataset)\n",
    "print('accuracy:', model.measure_accuracy(dataset))\n",
    "# model.train(dataset)\n",
    "# print('accuracy:', model.measure_accuracy(dataset))"
   ]
  },
  {
   "cell_type": "code",
   "execution_count": null,
   "metadata": {},
   "outputs": [],
   "source": [
    "model.train(dataset)"
   ]
  },
  {
   "cell_type": "code",
   "execution_count": null,
   "metadata": {},
   "outputs": [],
   "source": [
    "model.measure_accuracy(dataset)"
   ]
  },
  {
   "cell_type": "markdown",
   "metadata": {},
   "source": [
    "## Keras"
   ]
  },
  {
   "cell_type": "code",
   "execution_count": 7,
   "metadata": {},
   "outputs": [],
   "source": [
    "\n",
    "def show_model(model):\n",
    "    display(SVG(model_to_dot(model).create(prog='dot', format='svg')))\n",
    "\n",
    "class PlotLearning(keras.callbacks.Callback):\n",
    "    def on_train_begin(self, logs={}):\n",
    "        self.i = 0\n",
    "        self.x = []\n",
    "        self.losses = []\n",
    "        self.val_losses = []\n",
    "        self.acc = []\n",
    "        self.val_acc = []\n",
    "        self.fig = plt.figure()\n",
    "        \n",
    "        self.logs = []\n",
    "\n",
    "    def on_epoch_end(self, epoch, logs={}):\n",
    "        \n",
    "        self.logs.append(logs)\n",
    "        self.x.append(self.i)\n",
    "        self.losses.append(logs.get('loss'))\n",
    "        self.val_losses.append(logs.get('val_loss'))\n",
    "        self.acc.append(logs.get('acc'))\n",
    "        self.val_acc.append(logs.get('val_acc'))\n",
    "        self.i += 1\n",
    "        f, (ax1, ax2) = plt.subplots(1, 2, sharex=True)\n",
    "        \n",
    "#         clear_output(wait=True)\n",
    "        \n",
    "        ax1.set_yscale('log')\n",
    "        ax1.plot(self.x, self.losses, label=\"loss\")\n",
    "        ax1.plot(self.x, self.val_losses, label=\"val_loss\")\n",
    "        ax1.legend()\n",
    "        \n",
    "        ax2.plot(self.x, self.acc, label=\"accuracy\")\n",
    "        ax2.plot(self.x, self.val_acc, label=\"validation accuracy\")\n",
    "        ax2.legend()\n",
    "        \n",
    "        plt.show();\n",
    "        "
   ]
  },
  {
   "cell_type": "markdown",
   "metadata": {},
   "source": [
    "### Linear Classifier"
   ]
  },
  {
   "cell_type": "code",
   "execution_count": null,
   "metadata": {},
   "outputs": [],
   "source": [
    "model = Sequential()\n",
    "model.add(Dense(units=10, activation='softmax', input_dim=3072))\n",
    "\n",
    "model.compile(loss='categorical_crossentropy',\n",
    "              optimizer='sgd',\n",
    "              metrics=['accuracy'])\n",
    "\n",
    "model.fit(x_train, y_train, epochs=20, batch_size=32, validation_data=(x_test, y_test))\n",
    "\n",
    "loss_and_metrics = model.evaluate(x_test, y_test, batch_size=128)\n",
    "print(loss_and_metrics)"
   ]
  },
  {
   "cell_type": "markdown",
   "metadata": {},
   "source": [
    "### Neural Network"
   ]
  },
  {
   "cell_type": "code",
   "execution_count": null,
   "metadata": {},
   "outputs": [],
   "source": [
    "model = Sequential()\n",
    "model.add(Dense(units=200, activation='relu', kernel_regularizer=keras.regularizers.l2(.001), input_dim=3072))\n",
    "model.add(Dense(units=100, activation='relu', kernel_regularizer=keras.regularizers.l2(.001)))\n",
    "model.add(Dense(units=10, activation='softmax'))\n",
    "\n",
    "model.compile(loss='categorical_crossentropy',\n",
    "              optimizer='sgd',\n",
    "              metrics=['accuracy'])\n",
    "\n",
    "model.fit(x_train, y_train, epochs=20, batch_size=32, validation_data=(x_test, y_test))\n",
    "\n",
    "loss_and_metrics = model.evaluate(x_test, y_test, batch_size=128)\n",
    "print(loss_and_metrics)"
   ]
  },
  {
   "cell_type": "markdown",
   "metadata": {},
   "source": [
    "### Convolutional Neural Network\n",
    "#### Naive model\n",
    "This model converges at 0.66 accuracy"
   ]
  },
  {
   "cell_type": "code",
   "execution_count": 9,
   "metadata": {},
   "outputs": [],
   "source": [
    "model = Sequential()\n",
    "model.add(Conv2D(filters=32, kernel_size=5, activation='relu', input_shape=[32, 32, 3]))\n",
    "model.add(Conv2D(filters=64, kernel_size=3, activation='relu'))\n",
    "model.add(MaxPooling2D(pool_size=(2,2)))\n",
    "model.add(Conv2D(filters=128, kernel_size=3, activation='relu'))\n",
    "model.add(Conv2D(filters=256, kernel_size=3, activation='relu', dilation_rate=2))\n",
    "model.add(Flatten())\n",
    "model.add(Dense(units=100, activation='relu'))\n",
    "model.add(Dropout(0.75))\n",
    "model.add(Dense(units=10, activation='softmax'))\n",
    "\n",
    "model.compile(loss='categorical_crossentropy',\n",
    "              optimizer='sgd',\n",
    "              metrics=['accuracy'])\n",
    "\n",
    "\n",
    "# show_model(model)\n",
    "\n",
    "plot = PlotLearning()\n",
    "log_tensorboard = TensorBoard(log_dir='./logs', write_graph=True, write_grads=True, write_images=True)\n",
    "\n",
    "val_acc = [.1]\n",
    "train_acc = [.1]"
   ]
  },
  {
   "cell_type": "code",
   "execution_count": null,
   "metadata": {},
   "outputs": [],
   "source": [
    "model = keras.models.load_model('models/keras-cifar-cnn.h5')\n"
   ]
  },
  {
   "cell_type": "code",
   "execution_count": 12,
   "metadata": {},
   "outputs": [
    {
     "name": "stdout",
     "output_type": "stream",
     "text": [
      "Train on 50000 samples, validate on 10000 samples\n",
      "Epoch 1/20\n",
      "50000/50000 [==============================] - 28s 554us/step - loss: 1.0950 - acc: 0.6201 - val_loss: 8.1187 - val_acc: 0.4668\n",
      "Epoch 2/20\n",
      "50000/50000 [==============================] - 28s 554us/step - loss: 1.0741 - acc: 0.6286 - val_loss: 9.9145 - val_acc: 0.3654\n",
      "Epoch 3/20\n",
      "50000/50000 [==============================] - 27s 549us/step - loss: 1.0488 - acc: 0.6379 - val_loss: 8.5557 - val_acc: 0.4434\n",
      "Epoch 4/20\n",
      "50000/50000 [==============================] - 27s 548us/step - loss: 1.0296 - acc: 0.6455 - val_loss: 7.3057 - val_acc: 0.5183\n",
      "Epoch 5/20\n",
      "50000/50000 [==============================] - 27s 544us/step - loss: 1.0080 - acc: 0.6543 - val_loss: 9.7891 - val_acc: 0.3739\n",
      "Epoch 6/20\n",
      "50000/50000 [==============================] - 27s 541us/step - loss: 0.9875 - acc: 0.6592 - val_loss: 8.5666 - val_acc: 0.4460\n",
      "Epoch 7/20\n",
      "50000/50000 [==============================] - 27s 547us/step - loss: 0.9730 - acc: 0.6656 - val_loss: 6.9658 - val_acc: 0.5385\n",
      "Epoch 8/20\n",
      "50000/50000 [==============================] - 27s 543us/step - loss: 0.9531 - acc: 0.6726 - val_loss: 8.5253 - val_acc: 0.4486\n",
      "Epoch 9/20\n",
      "50000/50000 [==============================] - 27s 542us/step - loss: 0.9351 - acc: 0.6781 - val_loss: 7.7268 - val_acc: 0.4963\n",
      "Epoch 10/20\n",
      "50000/50000 [==============================] - 27s 546us/step - loss: 0.9173 - acc: 0.6844 - val_loss: 9.0224 - val_acc: 0.4184\n",
      "Epoch 11/20\n",
      "50000/50000 [==============================] - 27s 544us/step - loss: 0.9007 - acc: 0.6881 - val_loss: 7.7891 - val_acc: 0.4930\n",
      "Epoch 12/20\n",
      "50000/50000 [==============================] - 27s 543us/step - loss: 0.8761 - acc: 0.6973 - val_loss: 8.8241 - val_acc: 0.4288\n",
      "Epoch 13/20\n",
      "50000/50000 [==============================] - 27s 545us/step - loss: 0.8662 - acc: 0.7031 - val_loss: 7.8172 - val_acc: 0.4865\n",
      "Epoch 14/20\n",
      "50000/50000 [==============================] - 27s 544us/step - loss: 0.8473 - acc: 0.7082 - val_loss: 8.1076 - val_acc: 0.4787\n",
      "Epoch 15/20\n",
      "50000/50000 [==============================] - 27s 544us/step - loss: 0.8342 - acc: 0.7129 - val_loss: 7.1005 - val_acc: 0.5351\n",
      "Epoch 16/20\n",
      "50000/50000 [==============================] - 27s 539us/step - loss: 0.8112 - acc: 0.7199 - val_loss: 8.6194 - val_acc: 0.4431\n",
      "Epoch 17/20\n",
      "50000/50000 [==============================] - 28s 554us/step - loss: 0.7955 - acc: 0.7251 - val_loss: 7.7455 - val_acc: 0.4963\n",
      "Epoch 18/20\n",
      "50000/50000 [==============================] - 27s 547us/step - loss: 0.7845 - acc: 0.7292 - val_loss: 8.2773 - val_acc: 0.4636\n",
      "Epoch 19/20\n",
      "50000/50000 [==============================] - 27s 544us/step - loss: 0.7630 - acc: 0.7354 - val_loss: 7.2712 - val_acc: 0.5220\n",
      "Epoch 20/20\n",
      "50000/50000 [==============================] - 27s 536us/step - loss: 0.7521 - acc: 0.7391 - val_loss: 7.5228 - val_acc: 0.5115\n",
      "[0.1, 0.14580000000000001, 0.14610000000000001, 0.24590000000000001, 0.29380000000000001, 0.29880000000000001, 0.30109999999999998, 0.29609999999999997, 0.35499999999999998, 0.3256, 0.31909999999999999, 0.3931, 0.36109999999999998, 0.40670000000000001, 0.3392, 0.25819999999999999, 0.40039999999999998, 0.43440000000000001, 0.35630000000000001, 0.39190000000000003, 0.36909999999999998, 0.46679999999999999, 0.3654, 0.44340000000000002, 0.51829999999999998, 0.37390000000000001, 0.44600000000000001, 0.53849999999999998, 0.4486, 0.49630000000000002, 0.41839999999999999, 0.49299999999999999, 0.42880000000000001, 0.48649999999999999, 0.47870000000000001, 0.53510000000000002, 0.44309999999999999, 0.49630000000000002, 0.46360000000000001, 0.52200000000000002, 0.51149999999999995]\n",
      "[0.1, 0.20526, 0.28841999999046325, 0.35040000000953675, 0.38272000000953676, 0.41164000000953677, 0.43431999999999998, 0.44966, 0.46535999999046324, 0.48271999996185305, 0.49641999998092651, 0.50957999996185299, 0.52620000001907352, 0.53685999996185307, 0.55088000000000004, 0.56447999996185305, 0.57583999996185298, 0.58683999998092651, 0.59619999998092654, 0.60450000000000004, 0.61339999999999995, 0.62006000003814699, 0.62863999998092657, 0.6378999999809265, 0.64549999999999996, 0.65433999998092651, 0.65915999998092656, 0.66555999998092652, 0.67256000003814698, 0.67807999996185297, 0.68436000003814701, 0.68813999998092656, 0.69730000001907344, 0.70312000001907349, 0.70823999998092646, 0.71287999996185303, 0.71988000001907348, 0.725059999961853, 0.72924000003814693, 0.73541999999999996, 0.73906000000000005]\n"
     ]
    }
   ],
   "source": [
    "\n",
    "h = model.fit(x_train, y_train, epochs=20, batch_size=128, validation_data=(x_test, y_test))\n",
    "val_acc += h.history['val_acc']\n",
    "train_acc += h.history['acc']\n",
    "print(val_acc)\n",
    "print(train_acc)"
   ]
  },
  {
   "cell_type": "code",
   "execution_count": null,
   "metadata": {},
   "outputs": [],
   "source": [
    "lr = 0.00001\n",
    "\n",
    "# plot = PlotLearning()\n",
    "while (lr > 0.000005):\n",
    "    print('Traning with lr = %.7f' % lr)\n",
    "    keras.backend.set_value(model.optimizer.lr, lr)\n",
    "    model.fit(x_train2d, y_train, epochs=2, batch_size=32, validation_data=(x_test2d, y_test))\n",
    "    lr *= .95\n",
    "\n",
    "loss_and_metrics = model.evaluate(x_test2d, y_test, batch_size=128)\n",
    "print(loss_and_metrics)"
   ]
  },
  {
   "cell_type": "code",
   "execution_count": null,
   "metadata": {},
   "outputs": [],
   "source": [
    "# importlib.reload(keras.models)\n",
    "# importlib.reload(h5py)\n",
    "\n",
    "model.save('models/keras-cifar-cnn.h5')"
   ]
  },
  {
   "cell_type": "markdown",
   "metadata": {},
   "source": [
    "#### Fully convolutional model"
   ]
  },
  {
   "cell_type": "code",
   "execution_count": null,
   "metadata": {},
   "outputs": [],
   "source": [
    "img_dims = (32, 32, 3)\n",
    "\n",
    "conv_parameters = {\n",
    "    'padding': 'same',\n",
    "    'activation': 'relu',\n",
    "    'kernel_initializer': 'he_normal',\n",
    "    'kernel_regularizer': keras.regularizers.l2(.01)\n",
    "}\n",
    "\n",
    "inputs = Input(img_dims)\n",
    "# Input: 32x32x3\n",
    "\n",
    "bn0 = BatchNormalization()(inputs)\n",
    "\n",
    "conv1 = Conv2D(filters=32, kernel_size=3, **conv_parameters)(bn0)\n",
    "conv1 = Conv2D(filters=32, kernel_size=3, **conv_parameters)(conv1)\n",
    "pool1 = MaxPooling2D(pool_size=(2,2))(conv1)\n",
    "# pool1's output is 16x16x32\n",
    "bn1 = BatchNormalization()(pool1)\n",
    "\n",
    "conv2 = Conv2D(filters=64, kernel_size=3, **conv_parameters)(bn1)\n",
    "conv2 = Conv2D(filters=64, kernel_size=3, **conv_parameters)(conv2)\n",
    "pool2 = MaxPooling2D(pool_size=(2,2))(conv2)\n",
    "# pool2's output is 8x8x64\n",
    "bn2 = BatchNormalization()(pool2)\n",
    "\n",
    "conv3 = Conv2D(filters=128, kernel_size=3, **conv_parameters)(bn2)\n",
    "conv3 = Conv2D(filters=128, kernel_size=3, **conv_parameters)(conv3)\n",
    "pool3 = MaxPooling2D(pool_size=(2,2))(conv3)\n",
    "# pool3's output is 4x4x128\n",
    "bn3 = BatchNormalization()(pool3)\n",
    "\n",
    "conv4 = Conv2D(filters=256, kernel_size=3, **conv_parameters)(bn3)\n",
    "conv4 = Conv2D(filters=256, kernel_size=3, **conv_parameters)(conv4)\n",
    "pool4 = MaxPooling2D(pool_size=(2,2))(conv4)\n",
    "# pool4's output is 2x2x256\n",
    "\n",
    "# drop = Dropout(.75)(pool4)\n",
    "# conv5 = Conv2D(filters=100, kernel_size=2, activation='relu')(drop)\n",
    "# conv5 = Conv2D(filters=10, kernel_size=1, activation='softmax')(conv5)\n",
    "# pool4's output is 1x1x10\n",
    "\n",
    "\n",
    "flatten = Flatten()(pool4)\n",
    "drop1 = Dropout(0.75)(flatten)\n",
    "\n",
    "fc1 = Dense(units=512, activation='relu')(drop1)\n",
    "drop2 = Dropout(0.75)(fc1)\n",
    "fc2 = Dense(units=256, activation='relu')(drop2)\n",
    "fc3 = Dense(units=10, activation='softmax')(fc2)\n",
    "\n",
    "model = Model(inputs=[inputs], outputs=[fc3])\n",
    "\n",
    "sgd = keras.optimizers.SGD(lr=.01, momentum=0.5, nesterov=True)\n",
    "model.compile(loss='categorical_crossentropy',\n",
    "              optimizer=sgd,\n",
    "              metrics=['accuracy'])\n",
    "val_acc_fc = [.1]\n",
    "train_acc_fc = [.1]"
   ]
  },
  {
   "cell_type": "code",
   "execution_count": null,
   "metadata": {},
   "outputs": [],
   "source": [
    "h = model.fit(x_train2d, y_train, epochs=20, batch_size=128, validation_data=(x_test2d, y_test))\n",
    "val_acc_fc += h.history['val_acc']\n",
    "train_acc_fc += h.history['acc']\n",
    "print(val_acc_fc)\n",
    "print(train_acc_fc)\n"
   ]
  },
  {
   "cell_type": "code",
   "execution_count": null,
   "metadata": {},
   "outputs": [],
   "source": [
    "# keras.backend.set_value(model.layers[-3].rate, .75)\n",
    "drop1.rate = .99\n",
    "model.compile(loss='categorical_crossentropy',\n",
    "              optimizer=sgd,\n",
    "              metrics=['accuracy'])"
   ]
  },
  {
   "cell_type": "code",
   "execution_count": null,
   "metadata": {},
   "outputs": [],
   "source": [
    "plt.plot(val_acc_fc, label='val_acc')\n",
    "plt.plot(train_acc_fc, label='train_acc')\n",
    "\n",
    "plt.legend()\n",
    "plt.show()"
   ]
  },
  {
   "cell_type": "code",
   "execution_count": null,
   "metadata": {},
   "outputs": [],
   "source": [
    "\n",
    "df['val_acc reg=0.001'] = val_acc\n",
    "df['train_acc reg=0.001'] = train_acc\n",
    "\n",
    "df['val_acc reg=0.01'] = val_acc_reg\n",
    "df['train_acc reg=0.01'] = train_acc_reg\n",
    "\n",
    "df['val_acc reg=0'] = val_acc_no_reg\n",
    "df['train_acc reg=0'] = train_acc_no_reg\n",
    "\n",
    "df['val_acc decay=1e-5'] = val_acc_dec\n",
    "df['train_acc decay=1e-5'] = train_acc_dec\n",
    "\n",
    "df['val_small'] = val_acc_small\n",
    "df['train_small'] = train_acc_small\n",
    "\n",
    "df.to_csv('models/accuracy_df.csv')\n",
    "\n",
    "ax = df.plot()\n",
    "ax.legend(loc='center left', bbox_to_anchor=(1, 0.5))"
   ]
  },
  {
   "cell_type": "code",
   "execution_count": null,
   "metadata": {},
   "outputs": [],
   "source": [
    "# Hardcoded decay\n",
    "lr = keras.backend.get_value(model.optimizer.lr)\n",
    "target_lr = lr / 10\n",
    "while lr > target_lr:\n",
    "    print('Training with lr = %.7f' % lr)\n",
    "    keras.backend.set_value(model.optimizer.lr, lr)\n",
    "    model.fit(x_train2d, y_train, epochs=5, batch_size=32, validation_data=(x_test2d, y_test))\n",
    "    lr *= .90"
   ]
  },
  {
   "cell_type": "markdown",
   "metadata": {},
   "source": [
    "### DenseNet"
   ]
  },
  {
   "cell_type": "code",
   "execution_count": 5,
   "metadata": {},
   "outputs": [
    {
     "name": "stdout",
     "output_type": "stream",
     "text": [
      "3477718\n"
     ]
    }
   ],
   "source": [
    "conv_parameters = {\n",
    "    'padding': 'same',\n",
    "    'activation': 'relu',\n",
    "    'kernel_initializer': 'he_normal',\n",
    "    'kernel_regularizer': keras.regularizers.l2(.0001)\n",
    "}\n",
    "\n",
    "inputs = Input(img_dims)\n",
    "\n",
    "concat = inputs\n",
    "x = Conv2D(filters=32, kernel_size=3, **conv_parameters)(concat)\n",
    "concat = concatenate([x, concat])\n",
    "\n",
    "x = Conv2D(filters=32, kernel_size=3, **conv_parameters)(concat)\n",
    "concat = concatenate([x, concat])\n",
    "\n",
    "x = Conv2D(filters=32, kernel_size=3, **conv_parameters)(concat)\n",
    "concat = concatenate([x, concat])\n",
    "\n",
    "x = Conv2D(filters=32, kernel_size=3, **conv_parameters)(concat)\n",
    "concat = concatenate([x, concat])\n",
    "\n",
    "x = Conv2D(filters=32, kernel_size=3, **conv_parameters)(concat)\n",
    "concat = concatenate([x, concat])\n",
    "\n",
    "x = Conv2D(filters=32, kernel_size=3, **conv_parameters)(concat)\n",
    "concat = concatenate([x, concat])\n",
    "\n",
    "x = Conv2D(filters=32, kernel_size=3, **conv_parameters)(concat)\n",
    "\n",
    "x = Flatten()(x)\n",
    "\n",
    "x = Dense(100, activation='relu')(x)\n",
    "x = Dropout(0.5)(x)\n",
    "x = Dense(10, activation='softmax')(x)\n",
    "\n",
    "model = Model(inputs=[inputs], outputs=[x])\n",
    "\n",
    "sgd = keras.optimizers.SGD(lr=.01, momentum=0.5, nesterov=True)\n",
    "model.compile(loss='categorical_crossentropy',\n",
    "              optimizer=sgd,\n",
    "              metrics=['accuracy'])\n",
    "print(model.count_params())\n",
    "\n",
    "val_acc = [.1]\n",
    "train_acc = [.1]"
   ]
  },
  {
   "cell_type": "code",
   "execution_count": 9,
   "metadata": {},
   "outputs": [
    {
     "name": "stdout",
     "output_type": "stream",
     "text": [
      "217516\n"
     ]
    }
   ],
   "source": [
    "growth_rate = 12\n",
    "layers_per_block = 12\n",
    "conv_parameters = {\n",
    "    'padding': 'same',\n",
    "    'activation': 'relu',\n",
    "    'kernel_initializer': 'he_normal',\n",
    "    'kernel_regularizer': keras.regularizers.l2(.0001)\n",
    "}\n",
    "\n",
    "def composite_layer(x):\n",
    "    x = BatchNormalization()(x)\n",
    "    x = Activation('relu')(x)\n",
    "    x = Conv2D(filters=growth_rate * 4, kernel_size=1, **conv_parameters)(x)\n",
    "    x = BatchNormalization()(x)\n",
    "    x = Activation('relu')(x)\n",
    "    x = Conv2D(filters=growth_rate, kernel_size=3, **conv_parameters)(x)\n",
    "    return x\n",
    "    \n",
    "def dense_block(x):\n",
    "    concat = x\n",
    "    for _ in range(layers_per_block):\n",
    "        x = composite_layer(x)\n",
    "        concat = concatenate([x, concat])\n",
    "    return x\n",
    "    \n",
    "def transition_layer(x):\n",
    "    nchannels = int(x.get_shape()[-1])\n",
    "    x = BatchNormalization()(x)\n",
    "    x = Conv2D(filters=nchannels // 2, kernel_size=1, **conv_parameters)(x)\n",
    "    x = AveragePooling2D(pool_size=(2,2))(x)\n",
    "    return x\n",
    "\n",
    "inputs = Input(img_dims)\n",
    "\n",
    "x = dense_block(inputs)\n",
    "x = transition_layer(x)\n",
    "\n",
    "x = dense_block(x)\n",
    "x = transition_layer(x)\n",
    "\n",
    "x = dense_block(x)\n",
    "x = transition_layer(x)\n",
    "\n",
    "x = GlobalAveragePooling2D()(x)\n",
    "x = Dropout(.5)(x)\n",
    "x = Dense(10, activation='softmax')(x)\n",
    "\n",
    "model = Model(inputs=[inputs], outputs=[x])\n",
    "\n",
    "sgd = keras.optimizers.SGD(lr=.01, momentum=0.5, nesterov=True)\n",
    "model.compile(loss='categorical_crossentropy',\n",
    "              optimizer=sgd,\n",
    "              metrics=['accuracy'])\n",
    "print(model.count_params())\n",
    "\n",
    "val_acc = [.1]\n",
    "train_acc = [.1]"
   ]
  },
  {
   "cell_type": "code",
   "execution_count": 11,
   "metadata": {},
   "outputs": [
    {
     "name": "stdout",
     "output_type": "stream",
     "text": [
      "Train on 50000 samples, validate on 10000 samples\n",
      "Epoch 1/10\n",
      "50000/50000 [==============================] - 352s 7ms/step - loss: 53115764.9587 - acc: 0.0990 - val_loss: 52784285.1840 - val_acc: 0.0991\n",
      "Epoch 2/10\n",
      "50000/50000 [==============================] - 363s 7ms/step - loss: 52456043.4125 - acc: 0.0985 - val_loss: 52128495.0016 - val_acc: 0.1000\n",
      "Epoch 3/10\n",
      "50000/50000 [==============================] - 361s 7ms/step - loss: 51804300.0038 - acc: 0.0987 - val_loss: 51480860.6208 - val_acc: 0.1002\n",
      "Epoch 4/10\n",
      "50000/50000 [==============================] - 358s 7ms/step - loss: 51160631.4637 - acc: 0.0996 - val_loss: 50841071.1680 - val_acc: 0.1000\n",
      "Epoch 5/10\n",
      "50000/50000 [==============================] - 360s 7ms/step - loss: 50524685.5232 - acc: 0.0997 - val_loss: 50209076.4992 - val_acc: 0.1000\n",
      "Epoch 6/10\n",
      "50000/50000 [==============================] - 364s 7ms/step - loss: 49896927.0656 - acc: 0.1022 - val_loss: 49585500.0256 - val_acc: 0.1000\n",
      "Epoch 7/10\n",
      "50000/50000 [==============================] - 356s 7ms/step - loss: 49277209.4221 - acc: 0.0979 - val_loss: 48969648.0000 - val_acc: 0.1000\n",
      "Epoch 8/10\n",
      "50000/50000 [==============================] - 333s 7ms/step - loss: 48665256.1882 - acc: 0.0978 - val_loss: 48361567.6672 - val_acc: 0.1000\n",
      "Epoch 9/10\n",
      "50000/50000 [==============================] - 337s 7ms/step - loss: 48060872.8077 - acc: 0.0970 - val_loss: 47760855.1552 - val_acc: 0.1013\n",
      "Epoch 10/10\n",
      "50000/50000 [==============================] - 339s 7ms/step - loss: 47463865.6435 - acc: 0.0988 - val_loss: 47167551.8976 - val_acc: 0.1014\n"
     ]
    },
    {
     "ename": "NameError",
     "evalue": "name 'val_acc_fc' is not defined",
     "output_type": "error",
     "traceback": [
      "\u001b[0;31m---------------------------------------------------------------------------\u001b[0m",
      "\u001b[0;31mNameError\u001b[0m                                 Traceback (most recent call last)",
      "\u001b[0;32m<ipython-input-11-aea09f2ba948>\u001b[0m in \u001b[0;36m<module>\u001b[0;34m()\u001b[0m\n\u001b[1;32m      1\u001b[0m \u001b[0mh\u001b[0m \u001b[0;34m=\u001b[0m \u001b[0mmodel\u001b[0m\u001b[0;34m.\u001b[0m\u001b[0mfit\u001b[0m\u001b[0;34m(\u001b[0m\u001b[0mx_train\u001b[0m\u001b[0;34m,\u001b[0m \u001b[0my_train\u001b[0m\u001b[0;34m,\u001b[0m \u001b[0mepochs\u001b[0m\u001b[0;34m=\u001b[0m\u001b[0;36m10\u001b[0m\u001b[0;34m,\u001b[0m \u001b[0mbatch_size\u001b[0m\u001b[0;34m=\u001b[0m\u001b[0;36m32\u001b[0m\u001b[0;34m,\u001b[0m \u001b[0mvalidation_data\u001b[0m\u001b[0;34m=\u001b[0m\u001b[0;34m(\u001b[0m\u001b[0mx_test\u001b[0m\u001b[0;34m,\u001b[0m \u001b[0my_test\u001b[0m\u001b[0;34m)\u001b[0m\u001b[0;34m)\u001b[0m\u001b[0;34m\u001b[0m\u001b[0m\n\u001b[0;32m----> 2\u001b[0;31m \u001b[0mval_acc_fc\u001b[0m \u001b[0;34m+=\u001b[0m \u001b[0mh\u001b[0m\u001b[0;34m.\u001b[0m\u001b[0mhistory\u001b[0m\u001b[0;34m[\u001b[0m\u001b[0;34m'val_acc'\u001b[0m\u001b[0;34m]\u001b[0m\u001b[0;34m\u001b[0m\u001b[0m\n\u001b[0m\u001b[1;32m      3\u001b[0m \u001b[0mtrain_acc_fc\u001b[0m \u001b[0;34m+=\u001b[0m \u001b[0mh\u001b[0m\u001b[0;34m.\u001b[0m\u001b[0mhistory\u001b[0m\u001b[0;34m[\u001b[0m\u001b[0;34m'acc'\u001b[0m\u001b[0;34m]\u001b[0m\u001b[0;34m\u001b[0m\u001b[0m\n\u001b[1;32m      4\u001b[0m \u001b[0mprint\u001b[0m\u001b[0;34m(\u001b[0m\u001b[0mval_acc_fc\u001b[0m\u001b[0;34m)\u001b[0m\u001b[0;34m\u001b[0m\u001b[0m\n\u001b[1;32m      5\u001b[0m \u001b[0mprint\u001b[0m\u001b[0;34m(\u001b[0m\u001b[0mtrain_acc_fc\u001b[0m\u001b[0;34m)\u001b[0m\u001b[0;34m\u001b[0m\u001b[0m\n",
      "\u001b[0;31mNameError\u001b[0m: name 'val_acc_fc' is not defined"
     ]
    }
   ],
   "source": [
    "h = model.fit(x_train, y_train, epochs=10, batch_size=32, validation_data=(x_test, y_test))\n",
    "val_acc_fc += h.history['val_acc']\n",
    "train_acc_fc += h.history['acc']\n",
    "print(val_acc_fc)\n",
    "print(train_acc_fc)"
   ]
  },
  {
   "cell_type": "code",
   "execution_count": 8,
   "metadata": {},
   "outputs": [
    {
     "name": "stdout",
     "output_type": "stream",
     "text": [
      "Using real-time data augmentation.\n"
     ]
    }
   ],
   "source": [
    "from DenseNet import densenet, scheduler\n",
    "from keras.preprocessing.image import ImageDataGenerator\n",
    "from keras.callbacks import LearningRateScheduler, TensorBoard, ModelCheckpoint\n",
    "\n",
    "\n",
    "img_input = Input(shape=img_dims)\n",
    "output    = densenet(img_input,num_classes)\n",
    "model     = Model(img_input, output)\n",
    "\n",
    "sgd = keras.optimizers.SGD(lr=.1, momentum=0.9, nesterov=True)\n",
    "model.compile(loss='categorical_crossentropy', optimizer=sgd, metrics=['accuracy'])\n",
    "\n",
    "# set callback\n",
    "tb_cb     = TensorBoard(log_dir='./densenet/', histogram_freq=0)\n",
    "change_lr = LearningRateScheduler(scheduler)\n",
    "ckpt      = ModelCheckpoint('./ckpt.h5', save_best_only=False, mode='auto', period=10)\n",
    "cbks      = [change_lr,tb_cb,ckpt]\n",
    "\n",
    "# set data augmentation\n",
    "print('Using real-time data augmentation.')\n",
    "datagen   = ImageDataGenerator(horizontal_flip=True,width_shift_range=0.125,height_shift_range=0.125,\n",
    "                               fill_mode='constant',cval=0.)\n",
    "\n",
    "datagen.fit(x_train)\n"
   ]
  },
  {
   "cell_type": "code",
   "execution_count": 3,
   "metadata": {},
   "outputs": [
    {
     "name": "stdout",
     "output_type": "stream",
     "text": [
      "850606\n"
     ]
    }
   ],
   "source": [
    "print(model.count_params())"
   ]
  },
  {
   "cell_type": "code",
   "execution_count": 18,
   "metadata": {},
   "outputs": [
    {
     "name": "stdout",
     "output_type": "stream",
     "text": [
      "Epoch 1/5\n",
      "782/782 [==============================] - 496s 635ms/step - loss: 0.7397 - acc: 0.8700 - val_loss: 0.8474 - val_acc: 0.8352\n",
      "Epoch 2/5\n",
      "782/782 [==============================] - 491s 627ms/step - loss: 0.7115 - acc: 0.8691 - val_loss: 0.8367 - val_acc: 0.8277\n",
      "Epoch 3/5\n",
      "782/782 [==============================] - 474s 607ms/step - loss: 0.7005 - acc: 0.8690 - val_loss: 0.7965 - val_acc: 0.8397\n",
      "Epoch 4/5\n",
      "782/782 [==============================] - 475s 607ms/step - loss: 0.6852 - acc: 0.8726 - val_loss: 0.7806 - val_acc: 0.8398\n",
      "Epoch 5/5\n",
      "782/782 [==============================] - 475s 607ms/step - loss: 0.6885 - acc: 0.8714 - val_loss: 0.9960 - val_acc: 0.7947\n"
     ]
    }
   ],
   "source": [
    "\n",
    "batch_size         = 40         # 64 or 32 or other\n",
    "epochs             = 5\n",
    "iterations         = 782\n",
    "# start training\n",
    "h = model.fit_generator(datagen.flow(x_train, y_train,batch_size=batch_size), steps_per_epoch=iterations, \n",
    "                    epochs=epochs, callbacks=cbks,validation_data=(x_test, y_test))\n",
    "\n",
    "val_acc += h.history['val_acc']\n",
    "train_acc += h.history['acc']\n",
    "\n",
    "model.save('densenet.h5')"
   ]
  },
  {
   "cell_type": "code",
   "execution_count": 16,
   "metadata": {},
   "outputs": [
    {
     "data": {
      "image/png": "[encoded data removed]",
      "text/plain": [
       "<matplotlib.figure.Figure at 0x7f0b6f9d86a0>"
      ]
     },
     "metadata": {},
     "output_type": "display_data"
    }
   ],
   "source": [
    "plt.plot(val_acc, label='val_acc')\n",
    "plt.plot(train_acc, label='train_acc')\n",
    "\n",
    "plt.legend()\n",
    "plt.show()"
   ]
  },
  {
   "cell_type": "markdown",
   "metadata": {},
   "source": [
    "## TensorFlow\n",
    "### Linear classifier"
   ]
  },
  {
   "cell_type": "code",
   "execution_count": null,
   "metadata": {},
   "outputs": [],
   "source": [
    "import tensorflow as tf\n",
    "\n",
    "X = tf.placeholder(tf.float32, shape=[None, 3072],name='input')\n",
    "W = tf.Variable(tf.zeros([3072, 10]), name='weights')\n",
    "b = tf.Variable(tf.zeros([10]), name='biases')\n",
    "\n",
    "Y = tf.nn.softmax(tf.matmul(X, W) + b, name='model')\n",
    "Y_ = tf.placeholder(tf.float32, shape=[None, 10], name='expected_labels')\n",
    "\n",
    "# loss function\n",
    "cross_entropy = -tf.reduce_sum(Y_ * tf.log(Y))\n",
    "\n",
    "# % of correct answers found in batch\n",
    "is_correct = tf.equal(tf.argmax(Y,1), tf.argmax(Y_,1))\n",
    "accuracy = tf.reduce_mean(tf.cast(is_correct, tf.float32))\n",
    "\n",
    "global_step = tf.Variable(0, trainable=False)\n",
    "starter_learning_rate = 0.001\n",
    "learning_rate = tf.train.exponential_decay(starter_learning_rate, global_step,\n",
    "                                           100000, 0.96, staircase=True)\n",
    "\n",
    "optimizer = tf.train.GradientDescentOptimizer(0.003)\n",
    "train_step = optimizer.minimize(cross_entropy, global_step=global_step)\n",
    "\n",
    "init = tf.global_variables_initializer()\n",
    "\n",
    "sess = tf.Session()\n",
    "sess.run(init)\n",
    "\n",
    "batch_size = 100\n",
    "test_data = {X: x_test, Y_: y_test}\n",
    "\n",
    "for i in range(1000):\n",
    "    # load batch of images and correct answers\n",
    "    idx = np.random.randint(x_train.shape[0], size=batch_size)\n",
    "    batch_x = x_train[idx]\n",
    "    batch_y = y_train[idx]\n",
    "    train_data={X: batch_x, Y_: batch_y}\n",
    "\n",
    "    # train\n",
    "    sess.run(train_step, feed_dict=train_data)\n",
    "    \n",
    "    a,c = sess.run([accuracy, cross_entropy], feed_dict=test_data)\n",
    "    print(a, c)"
   ]
  },
  {
   "cell_type": "code",
   "execution_count": null,
   "metadata": {},
   "outputs": [],
   "source": [
    "# success ?\n",
    "test_data = {X: x_test, Y_: y_test}\n",
    "a,c = sess.run([accuracy, cross_entropy], feed_dict=test_data)\n",
    "print(a, c)"
   ]
  }
 ],
 "metadata": {
  "kernelspec": {
   "display_name": "Python 3",
   "language": "python",
   "name": "python3"
  },
  "language_info": {
   "codemirror_mode": {
    "name": "ipython",
    "version": 3
   },
   "file_extension": ".py",
   "mimetype": "text/x-python",
   "name": "python",
   "nbconvert_exporter": "python",
   "pygments_lexer": "ipython3",
   "version": "3.5.2"
  }
 },
 "nbformat": 4,
 "nbformat_minor": 2
}
