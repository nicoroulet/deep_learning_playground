{
 "cells": [
  {
   "cell_type": "code",
   "execution_count": 1,
   "metadata": {},
   "outputs": [],
   "source": [
    "import matplotlib.pyplot as plt\n",
    "import pandas as pd\n",
    "from joblib import Parallel, delayed\n",
    "\n",
    "import Dataset\n",
    "import LinearClassifier"
   ]
  },
  {
   "cell_type": "code",
   "execution_count": 2,
   "metadata": {},
   "outputs": [],
   "source": [
    "# Load dataset\n",
    "dataset = Dataset.load_cifar()"
   ]
  },
  {
   "cell_type": "markdown",
   "metadata": {},
   "source": [
    "# Linear Classifier\n",
    "## Learning Rate\n",
    "Experimenting with multiple learning rates and showing accuracy on test batch"
   ]
  },
  {
   "cell_type": "code",
   "execution_count": 7,
   "metadata": {},
   "outputs": [
    {
     "name": "stdout",
     "output_type": "stream",
     "text": [
      "Computing learning_rate 0.100000\n",
      "Computing learning_rate 0.030000\n",
      "Computing learning_rate 0.010000\n",
      "Computing learning_rate 0.003000\n",
      "Computing learning_rate 0.001000\n",
      "Computing learning_rate 0.000700\n",
      "Computing learning_rate 0.000500\n",
      "Computing learning_rate 0.000300\n",
      "Computing learning_rate 0.000200\n",
      "Computing learning_rate 0.000100\n",
      "   final_accuracy  initial_accuracy  learning_rate\n",
      "0          0.1071            0.1009         0.1000\n",
      "1          0.1224            0.1091         0.0300\n",
      "2          0.1425            0.1031         0.0100\n",
      "3          0.1738            0.0800         0.0030\n",
      "4          0.2624            0.0982         0.0010\n",
      "5          0.2967            0.0839         0.0007\n",
      "6          0.3298            0.1011         0.0005\n",
      "7          0.3573            0.0998         0.0003\n",
      "8          0.3574            0.0962         0.0002\n",
      "9          0.3396            0.1155         0.0001\n"
     ]
    }
   ],
   "source": [
    "lr_stats = pd.DataFrame()\n",
    "learning_rates = [.1, .03, .01, .003, .001, .0007, .0005, .0003, .0002, .0001]\n",
    "\n",
    "for learning_rate in learning_rates:\n",
    "    print('Computing learning_rate %f' % learning_rate)\n",
    "    model = LinearClassifier.LinearClassifier(10, 3072, \n",
    "                          loss_calculator=LinearClassifier.SoftmaxCalculator(),\n",
    "                          learning_rate=learning_rate)\n",
    "    stats = {}\n",
    "    stats['learning_rate'] = learning_rate\n",
    "    stats['initial_accuracy'] = model.measure_accuracy(dataset)\n",
    "    model.train(dataset)\n",
    "    stats['final_accuracy'] = model.measure_accuracy(dataset)\n",
    "    lr_stats = lr_stats.append(stats, ignore_index=True)\n",
    "print(lr_stats)"
   ]
  },
  {
   "cell_type": "code",
   "execution_count": 8,
   "metadata": {},
   "outputs": [
    {
     "data": {
      "image/png": "[encoded data removed]",
      "text/plain": [
       "<matplotlib.figure.Figure at 0x7f233d450550>"
      ]
     },
     "metadata": {},
     "output_type": "display_data"
    }
   ],
   "source": [
    "ax = lr_stats.plot(x='learning_rate', y='final_accuracy',\n",
    "              title='Accuracy', logx=True)\n",
    "lr_stats.plot(x='learning_rate', y='initial_accuracy',\n",
    "              title='Accuracy', logx=True, ax=ax)\n",
    "\n",
    "plt.xlim(max(learning_rates), min(learning_rates))\n",
    "plt.show()"
   ]
  },
  {
   "cell_type": "markdown",
   "metadata": {},
   "source": [
    "## Training Rounds\n",
    "Experiment doing multiple rounds on the same training data\n",
    "Works well for badly initialized W, less effective otherwise (because accuracy starts high already)"
   ]
  },
  {
   "cell_type": "code",
   "execution_count": 5,
   "metadata": {},
   "outputs": [
    {
     "name": "stdout",
     "output_type": "stream",
     "text": [
      "Round 0\n",
      "Round 1\n",
      "Round 2\n",
      "Round 3\n",
      "Round 4\n",
      "Round 5\n",
      "Round 6\n",
      "Round 7\n",
      "Round 8\n",
      "Round 9\n",
      "   accuracy  round\n",
      "0    0.3595    0.0\n",
      "1    0.3704    1.0\n",
      "2    0.3749    2.0\n",
      "3    0.3779    3.0\n",
      "4    0.3779    4.0\n",
      "5    0.3802    5.0\n",
      "6    0.3796    6.0\n",
      "7    0.3804    7.0\n",
      "8    0.3801    8.0\n",
      "9    0.3811    9.0\n"
     ]
    }
   ],
   "source": [
    "\n",
    "dataset = Dataset.load_cifar()\n",
    "tr_stats = pd.DataFrame()\n",
    "learning_rate = 0.0003\n",
    "model = LinearClassifier.LinearClassifier(10, 3072, \n",
    "                      loss_calculator=LinearClassifier.SoftmaxCalculator(),\n",
    "                      learning_rate=learning_rate)\n",
    "for i in range(10):\n",
    "    print('Round', i)\n",
    "    model.train(dataset)\n",
    "    tr_stats = tr_stats.append({'round' : i,\n",
    "                                'accuracy' : model.measure_accuracy(dataset)},\n",
    "                                ignore_index=True)\n",
    "print(df_stats)"
   ]
  },
  {
   "cell_type": "code",
   "execution_count": 6,
   "metadata": {},
   "outputs": [
    {
     "data": {
      "image/png": "[encoded data removed]",
      "text/plain": [
       "<matplotlib.figure.Figure at 0x7f233d57def0>"
      ]
     },
     "metadata": {},
     "output_type": "display_data"
    }
   ],
   "source": [
    "tr_stats.plot(x='round', y='accuracy', title='Accuracy')\n",
    "plt.show()"
   ]
  }
 ],
 "metadata": {
  "kernelspec": {
   "display_name": "Python 3",
   "language": "python",
   "name": "python3"
  },
  "language_info": {
   "codemirror_mode": {
    "name": "ipython",
    "version": 3
   },
   "file_extension": ".py",
   "mimetype": "text/x-python",
   "name": "python",
   "nbconvert_exporter": "python",
   "pygments_lexer": "ipython3",
   "version": "3.5.2"
  }
 },
 "nbformat": 4,
 "nbformat_minor": 2
}
